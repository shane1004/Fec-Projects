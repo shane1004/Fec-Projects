{
  "nbformat": 4,
  "nbformat_minor": 0,
  "metadata": {
    "colab": {
      "name": "HARSHIT RAJ_QUANT_02_Portfolio Optimization.ipynb",
      "provenance": [],
      "collapsed_sections": []
    },
    "kernelspec": {
      "name": "python3",
      "display_name": "Python 3"
    }
  },
  "cells": [
    {
      "cell_type": "markdown",
      "metadata": {
        "id": "QVja3jEQWltg"
      },
      "source": [
        "**My Portfolio**\n",
        "\n",
        "\n",
        "\n",
        "1.   Reliance Industries Limited\n",
        "2.   SUN TV Network Limited\n",
        "3.   Bajaj Finance\n",
        "4.   ITC\n",
        "5.   WIPRO\n",
        "6.   CIPLA\n",
        "7.   Ashok Leyland Limited\n",
        "8.   Godrej Properties Limited\n",
        "\n"
      ]
    },
    {
      "cell_type": "code",
      "metadata": {
        "id": "fGW2NM_rWoMj"
      },
      "source": [
        "import pandas as pd\n",
        "import numpy as np\n",
        "import pandas_datareader.data as web\n",
        "import matplotlib.pyplot as plt"
      ],
      "execution_count": null,
      "outputs": []
    },
    {
      "cell_type": "code",
      "metadata": {
        "id": "zBSsV4P_oCoQ"
      },
      "source": [
        "stocks = ['RELIANCE.NS','SUNTV.NS','BAJFINANCE.NS','ITC.NS','WIPRO.NS','CIPLA.NS','ASHOKLEY.NS','GODREJPROP.NS']\n",
        "data = web.DataReader(stocks,data_source=\"yahoo\",start='01/01/2015',end='31/12/2019')['Adj Close']"
      ],
      "execution_count": null,
      "outputs": []
    },
    {
      "cell_type": "code",
      "metadata": {
        "id": "ITAVMUfvqgWo"
      },
      "source": [
        "returns = data.pct_change()[1:]"
      ],
      "execution_count": null,
      "outputs": []
    },
    {
      "cell_type": "code",
      "metadata": {
        "id": "47SfLzwuqxqG"
      },
      "source": [
        "mean_daily_returns = returns.mean()\n",
        "cov_matrix = returns.cov()"
      ],
      "execution_count": null,
      "outputs": []
    },
    {
      "cell_type": "code",
      "metadata": {
        "id": "iQwvzZH1WKqR",
        "colab": {
          "base_uri": "https://localhost:8080/",
          "height": 34
        },
        "outputId": "f432c2a2-1f58-48f5-cd33-055412227333"
      },
      "source": [
        "data.shape"
      ],
      "execution_count": null,
      "outputs": [
        {
          "output_type": "execute_result",
          "data": {
            "text/plain": [
              "(1229, 8)"
            ]
          },
          "metadata": {
            "tags": []
          },
          "execution_count": 181
        }
      ]
    },
    {
      "cell_type": "code",
      "metadata": {
        "id": "lzDYUcqLq6cF"
      },
      "source": [
        "num_portfolios = 50000"
      ],
      "execution_count": null,
      "outputs": []
    },
    {
      "cell_type": "code",
      "metadata": {
        "id": "NyZhx38yrBuy"
      },
      "source": [
        "results = np.zeros((3+len(stocks),num_portfolios))"
      ],
      "execution_count": null,
      "outputs": []
    },
    {
      "cell_type": "code",
      "metadata": {
        "id": "Pc0DnOWVrJPo"
      },
      "source": [
        "for i in range(num_portfolios):\n",
        "    weights = np.random.random(len(stocks))\n",
        "    weights /= np.sum(weights)\n",
        "    portfolio_return = np.sum(mean_daily_returns * weights) * data.shape[0]\n",
        "    portfolio_std_dev = np.sqrt(np.dot(weights.T,np.dot(cov_matrix, weights))) * np.sqrt(data.shape[0])\n",
        "    \n",
        "    results[0,i] = portfolio_return\n",
        "    results[1,i] = portfolio_std_dev\n",
        "    results[2,i] = results[0,i] / results[1,i]\n",
        "    for j in range(len(weights)):\n",
        "        results[j+3,i] = weights[j]"
      ],
      "execution_count": null,
      "outputs": []
    },
    {
      "cell_type": "code",
      "metadata": {
        "id": "10vJ05EWNgXr"
      },
      "source": [
        "results_frame = pd.DataFrame(results.T,columns=['ret','stdev','sharpe',stocks[0],stocks[1],stocks[2],stocks[3],stocks[4],stocks[5],stocks[6],stocks[7]])"
      ],
      "execution_count": null,
      "outputs": []
    },
    {
      "cell_type": "code",
      "metadata": {
        "id": "W1dTHGBXYFez"
      },
      "source": [
        "max_sharpe_port = results_frame.iloc[results_frame['sharpe'].idxmax()]\n",
        "min_vol_port = results_frame.iloc[results_frame['stdev'].idxmin()]"
      ],
      "execution_count": null,
      "outputs": []
    },
    {
      "cell_type": "code",
      "metadata": {
        "id": "LVvSvo0lrtOp",
        "colab": {
          "base_uri": "https://localhost:8080/",
          "height": 297
        },
        "outputId": "158230ed-5ba1-434b-844f-9c56b11c15d6"
      },
      "source": [
        "plt.scatter(results_frame.stdev,results_frame.ret,c=results_frame.sharpe,cmap='inferno_r')\n",
        "plt.xlabel('Volatility')\n",
        "plt.ylabel('Returns')\n",
        "plt.colorbar()\n",
        "plt.scatter(max_sharpe_port[1],max_sharpe_port[0],marker=(5,1,0),color='b',s=1000)\n",
        "plt.scatter(min_vol_port[1],min_vol_port[0],marker=(5,1,0),color='r',s=1000)\n"
      ],
      "execution_count": null,
      "outputs": [
        {
          "output_type": "execute_result",
          "data": {
            "text/plain": [
              "<matplotlib.collections.PathCollection at 0x7f43e9b97f98>"
            ]
          },
          "metadata": {
            "tags": []
          },
          "execution_count": 187
        },
        {
          "output_type": "display_data",
          "data": {
            "image/png": "[encoded data removed]",
            "text/plain": [
              "<Figure size 432x288 with 2 Axes>"
            ]
          },
          "metadata": {
            "tags": [],
            "needs_background": "light"
          }
        }
      ]
    },
    {
      "cell_type": "markdown",
      "metadata": {
        "id": "1c1RbklgfqlA"
      },
      "source": [
        "Portfolio for max sharpe ratio:"
      ]
    },
    {
      "cell_type": "code",
      "metadata": {
        "id": "xf0_f0v_O9on",
        "colab": {
          "base_uri": "https://localhost:8080/",
          "height": 218
        },
        "outputId": "e692571d-80d8-4c23-d527-b790611ce6fd"
      },
      "source": [
        "print(max_sharpe_port)"
      ],
      "execution_count": null,
      "outputs": [
        {
          "output_type": "stream",
          "text": [
            "ret              1.890561\n",
            "stdev            0.467019\n",
            "sharpe           4.048145\n",
            "RELIANCE.NS      0.261719\n",
            "SUNTV.NS         0.012581\n",
            "BAJFINANCE.NS    0.450284\n",
            "ITC.NS           0.065933\n",
            "WIPRO.NS         0.013769\n",
            "CIPLA.NS         0.073255\n",
            "ASHOKLEY.NS      0.003495\n",
            "GODREJPROP.NS    0.118965\n",
            "Name: 45753, dtype: float64\n"
          ],
          "name": "stdout"
        }
      ]
    },
    {
      "cell_type": "markdown",
      "metadata": {
        "id": "wEpoLO4_f7ZS"
      },
      "source": [
        "Portfolio for min volatility:"
      ]
    },
    {
      "cell_type": "code",
      "metadata": {
        "id": "2XMQFLcAeXGY",
        "colab": {
          "base_uri": "https://localhost:8080/",
          "height": 218
        },
        "outputId": "68f58797-d016-430d-c277-292ca3006f91"
      },
      "source": [
        "print(min_vol_port)"
      ],
      "execution_count": null,
      "outputs": [
        {
          "output_type": "stream",
          "text": [
            "ret              0.724067\n",
            "stdev            0.319982\n",
            "sharpe           2.262838\n",
            "RELIANCE.NS      0.154255\n",
            "SUNTV.NS         0.046296\n",
            "BAJFINANCE.NS    0.073623\n",
            "ITC.NS           0.162544\n",
            "WIPRO.NS         0.296381\n",
            "CIPLA.NS         0.182884\n",
            "ASHOKLEY.NS      0.026464\n",
            "GODREJPROP.NS    0.057554\n",
            "Name: 8039, dtype: float64\n"
          ],
          "name": "stdout"
        }
      ]
    },
    {
      "cell_type": "markdown",
      "metadata": {
        "id": "6e6hmJP2gBh7"
      },
      "source": [
        "**How did you choose the stocks?**\n",
        "\n",
        "Stocks were chosen from a wide variety of industries so as to diversify the stocks so that my portfolio does not rely heavily on a certain industry as it will be prone to major risks. Each of the companies in their particular industries were chosen on the basis that they are one of the leading companies in these sectors as well as on the basis of past performances of their stocks."
      ]
    },
    {
      "cell_type": "markdown",
      "metadata": {
        "id": "9B2vfo9CgvpT"
      },
      "source": [
        "**What is the impact of increasing the number of stocks in the portfolio?**\n",
        "\n",
        "On increasing the nomber of stocks in the portfolio there was a decrease in the volatility and the return of the portfolio but there was not much change in the return:volatility ratio of the portfolio."
      ]
    },
    {
      "cell_type": "markdown",
      "metadata": {
        "id": "FVjFhrO7g-Fh"
      },
      "source": [
        "**Why are calculating the weights by optimization and not giving equal weightage to every stock?**\n",
        "\n",
        "Weights are calculated by optimization because we expect a portfolio which would provide us with maximum benefits with minimum risks. Optimization ensures all cases are observed and provides us with the most beneficial set of weights.\n",
        "Giving equal weights to each stock would be costly to us as we would be having a portfolio which does not provide us the maximum return for a given amount of risk."
      ]
    },
    {
      "cell_type": "markdown",
      "metadata": {
        "id": "qYgM67OWhIpB"
      },
      "source": [
        "**Which optimization techniques are used by Mutual Funds currently?**\n",
        "\n",
        "Monte Carlo Optimization is generally used by mutual funds."
      ]
    }
  ]
}